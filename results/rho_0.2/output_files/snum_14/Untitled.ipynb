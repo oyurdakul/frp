{
 "cells": [
  {
   "cell_type": "code",
   "execution_count": 13,
   "id": "992dd04b",
   "metadata": {},
   "outputs": [],
   "source": [
    "import os\n",
    "import json\n",
    "import pandas as pd"
   ]
  },
  {
   "cell_type": "code",
   "execution_count": 3,
   "id": "5e5afb32",
   "metadata": {},
   "outputs": [],
   "source": [
    "res = json.load(open(\"cost_results.json\"))"
   ]
  },
  {
   "cell_type": "code",
   "execution_count": 20,
   "id": "18ee7c38",
   "metadata": {},
   "outputs": [],
   "source": [
    "res_all = {}\n",
    "for method in [\"st-FRP\", \"90-FRP\"]:\n",
    "    res_all[method] = {}\n",
    "    for key, val in res[method][\"configuration costs\"][\"generator costs\"].items():\n",
    "        if \"aggregate\" in key:\n",
    "            res_all[method][key] = val\n",
    "    for key, val in res[method][\"configuration costs\"].items():\n",
    "        if \"aggregate\" in key:\n",
    "            res_all[method][key] = val"
   ]
  },
  {
   "cell_type": "code",
   "execution_count": 27,
   "id": "4993abe1",
   "metadata": {},
   "outputs": [],
   "source": [
    "# df = pd.DataFrame.from_dict(res_all, orient=\"columns\")\n",
    "# df.rename(columns = {\"st-FRP\": \"method-1\", \"90-FRP\": \"method-2\"}, inplace = True)\n",
    "df.loc[~(df.index.str.contains(\"FRP\"))].to_csv(\"cost_examples.csv\")"
   ]
  },
  {
   "cell_type": "code",
   "execution_count": null,
   "id": "327de512",
   "metadata": {},
   "outputs": [],
   "source": []
  }
 ],
 "metadata": {
  "kernelspec": {
   "display_name": "Python 3 (ipykernel)",
   "language": "python",
   "name": "python3"
  },
  "language_info": {
   "codemirror_mode": {
    "name": "ipython",
    "version": 3
   },
   "file_extension": ".py",
   "mimetype": "text/x-python",
   "name": "python",
   "nbconvert_exporter": "python",
   "pygments_lexer": "ipython3",
   "version": "3.9.15"
  }
 },
 "nbformat": 4,
 "nbformat_minor": 5
}
